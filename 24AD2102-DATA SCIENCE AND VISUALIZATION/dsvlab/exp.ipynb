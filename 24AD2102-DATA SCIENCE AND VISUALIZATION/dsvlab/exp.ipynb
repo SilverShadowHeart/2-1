{
 "cells": [
  {
   "cell_type": "code",
   "execution_count": 3,
   "id": "4e911aac",
   "metadata": {},
   "outputs": [],
   "source": [
    "import pandas as pd \n",
    "import numpy as np \n",
    "import openpyxl as pyx\n"
   ]
  },
  {
   "cell_type": "code",
   "execution_count": 4,
   "id": "8dd1cf25",
   "metadata": {},
   "outputs": [
    {
     "name": "stdout",
     "output_type": "stream",
     "text": [
      "1.26.4\n",
      "2.2.3\n",
      "3.1.5\n"
     ]
    }
   ],
   "source": [
    "print(np.__version__)\n",
    "print(pd.__version__)\n",
    "print(pyx.__version__)"
   ]
  },
  {
   "cell_type": "code",
   "execution_count": 7,
   "id": "9a616c13",
   "metadata": {},
   "outputs": [
    {
     "name": "stdout",
     "output_type": "stream",
     "text": [
      "CSV Head:\n",
      "    150    4  setosa  versicolor  virginica\n",
      "0  5.1  3.5     1.4         0.2          0\n",
      "1  4.9  3.0     1.4         0.2          0\n",
      "2  4.7  3.2     1.3         0.2          0\n",
      "3  4.6  3.1     1.5         0.2          0\n",
      "4  5.0  3.6     1.4         0.2          0\n",
      "Excel Columns: Index(['150', '4', 'setosa', 'versicolor', 'virginica'], dtype='object')\n",
      "TXT Missing Values:\n",
      " 150           0\n",
      "4             0\n",
      "setosa        0\n",
      "versicolor    0\n",
      "virginica     0\n",
      "dtype: int64\n"
     ]
    }
   ],
   "source": [
    "df_csv=pd .read_csv(r\"C:\\Users\\mudda\\AppData\\Local\\Programs\\Python\\Python312\\Lib\\site-packages\\sklearn\\datasets\\data\\iris.csv\")\n",
    "print(\"CSV Head:\\n\", df_csv.head())\n",
    "print(\"Excel Columns:\", df_csv.columns)\n",
    "print(\"TXT Missing Values:\\n\", df_csv.isnull().sum())"
   ]
  },
  {
   "cell_type": "code",
   "execution_count": null,
   "id": "794c6c6b",
   "metadata": {},
   "outputs": [],
   "source": []
  }
 ],
 "metadata": {
  "kernelspec": {
   "display_name": "Python 3",
   "language": "python",
   "name": "python3"
  },
  "language_info": {
   "codemirror_mode": {
    "name": "ipython",
    "version": 3
   },
   "file_extension": ".py",
   "mimetype": "text/x-python",
   "name": "python",
   "nbconvert_exporter": "python",
   "pygments_lexer": "ipython3",
   "version": "3.12.4"
  }
 },
 "nbformat": 4,
 "nbformat_minor": 5
}
