{
 "cells": [
  {
   "cell_type": "code",
   "execution_count": 25,
   "id": "4e911aac",
   "metadata": {},
   "outputs": [],
   "source": [
    "import pandas as pd \n",
    "import numpy as np \n",
    "import openpyxl as pyx\n"
   ]
  },
  {
   "cell_type": "code",
   "execution_count": 26,
   "id": "8dd1cf25",
   "metadata": {},
   "outputs": [
    {
     "name": "stdout",
     "output_type": "stream",
     "text": [
      "1.26.4\n",
      "2.2.3\n",
      "3.1.5\n"
     ]
    }
   ],
   "source": [
    "print(np.__version__)\n",
    "print(pd.__version__)\n",
    "print(pyx.__version__)"
   ]
  },
  {
   "cell_type": "code",
   "execution_count": 38,
   "id": "9a616c13",
   "metadata": {},
   "outputs": [
    {
     "name": "stdout",
     "output_type": "stream",
     "text": [
      "CSV Head:\n",
      "    150    4  setosa  versicolor  virginica\n",
      "0  5.1  3.5     1.4         0.2          0\n",
      "1  4.9  3.0     1.4         0.2          0\n",
      "2  4.7  3.2     1.3         0.2          0\n",
      "3  4.6  3.1     1.5         0.2          0\n",
      "4  5.0  3.6     1.4         0.2          0\n",
      "Excel Columns: Index(['150', '4', 'setosa', 'versicolor', 'virginica'], dtype='object')\n",
      "TXT Missing Values:\n",
      " 150           0\n",
      "4             0\n",
      "setosa        0\n",
      "versicolor    0\n",
      "virginica     0\n",
      "dtype: int64\n",
      "150           0\n",
      "4             0\n",
      "setosa        0\n",
      "versicolor    0\n",
      "virginica     0\n",
      "dtype: int64\n",
      "150           35\n",
      "4             23\n",
      "setosa        43\n",
      "versicolor    22\n",
      "virginica      3\n",
      "dtype: int64\n",
      "setosa\n",
      "1.4    13\n",
      "1.5    13\n",
      "5.1     8\n",
      "4.5     8\n",
      "1.6     7\n",
      "1.3     7\n",
      "5.6     6\n",
      "4.7     5\n",
      "4.9     5\n",
      "4.0     5\n",
      "4.2     4\n",
      "5.0     4\n",
      "4.4     4\n",
      "4.8     4\n",
      "1.7     4\n",
      "3.9     3\n",
      "4.6     3\n",
      "5.7     3\n",
      "4.1     3\n",
      "5.5     3\n",
      "6.1     3\n",
      "5.8     3\n",
      "3.3     2\n",
      "5.4     2\n",
      "6.7     2\n",
      "5.3     2\n",
      "5.9     2\n",
      "6.0     2\n",
      "1.2     2\n",
      "4.3     2\n",
      "1.9     2\n",
      "3.5     2\n",
      "5.2     2\n",
      "3.0     1\n",
      "1.1     1\n",
      "3.7     1\n",
      "3.8     1\n",
      "6.6     1\n",
      "6.3     1\n",
      "1.0     1\n",
      "6.9     1\n",
      "3.6     1\n",
      "6.4     1\n",
      "Name: count, dtype: int64\n"
     ]
    }
   ],
   "source": [
    "df_csv=pd .read_csv(r\"C:\\Users\\mudda\\AppData\\Local\\Programs\\Python\\Python312\\Lib\\site-packages\\sklearn\\datasets\\data\\iris.csv\")\n",
    "print(\"CSV Head:\\n\", df_csv.head())\n",
    "print(\"Excel Columns:\", df_csv.columns)\n",
    "print(\"TXT Missing Values:\\n\", df_csv.isnull().sum())\n",
    "\n",
    "\n",
    "#print(df_csv.info())\n",
    "#print(df_csv.shape)\n",
    "#print(df_csv.columns,df_csv.dtypes)\n",
    "print(df_csv.isnull().sum())\n",
    "print(df_csv.nunique())\n",
    "print(df_csv[\"setosa\"].value_counts())\n"
   ]
  },
  {
   "cell_type": "code",
   "execution_count": 27,
   "id": "794c6c6b",
   "metadata": {},
   "outputs": [
    {
     "name": "stdout",
     "output_type": "stream",
     "text": [
      "loaded WORKBOOK <function load_workbook at 0x0000020DF65727A0>\n",
      "Mean: 4.859999999999999\n",
      "max: 5.1\n",
      "Reshaped Array:\n",
      " [[5.1 4.9 4.7 4.6 5. ]]\n"
     ]
    }
   ],
   "source": [
    "import numpy as np\n",
    "from openpyxl import load_workbook\n",
    "print(\"loaded WORKBOOK\", load_workbook)\n",
    "arr = np.array([5.1, 4.9, 4.7, 4.6, 5.0])\n",
    "print(\"Mean:\", np.mean(arr))\n",
    "print(\"max:\",np.max(arr))\n",
    "print(\"Reshaped Array:\\n\", arr.reshape(1, -1))\n"
   ]
  },
  {
   "cell_type": "code",
   "execution_count": null,
   "id": "2a1e4fd0",
   "metadata": {},
   "outputs": [
    {
     "name": "stdout",
     "output_type": "stream",
     "text": [
      "Index(['sepal_length', 'sepal_width', 'petal_length', 'petal_width',\n",
      "       'species'],\n",
      "      dtype='object')\n",
      "   sepal_length  sepal_width  petal_length  petal_width species\n",
      "0           5.1          3.5           1.4          0.2  setosa\n",
      "<class 'pandas.core.frame.DataFrame'>\n",
      "RangeIndex: 5 entries, 0 to 4\n",
      "Data columns (total 5 columns):\n",
      " #   Column        Non-Null Count  Dtype  \n",
      "---  ------        --------------  -----  \n",
      " 0   sepal_length  5 non-null      float64\n",
      " 1   sepal_width   5 non-null      float64\n",
      " 2   petal_length  5 non-null      float64\n",
      " 3   petal_width   5 non-null      float64\n",
      " 4   species       5 non-null      object \n",
      "dtypes: float64(4), object(1)\n",
      "memory usage: 332.0+ bytes\n",
      "None\n",
      "       sepal_length  sepal_width  petal_length  petal_width\n",
      "count      5.000000     5.000000      5.000000          5.0\n",
      "mean       4.860000     3.280000      1.400000          0.2\n",
      "std        0.207364     0.258844      0.070711          0.0\n",
      "min        4.600000     3.000000      1.300000          0.2\n",
      "25%        4.700000     3.100000      1.400000          0.2\n",
      "50%        4.900000     3.200000      1.400000          0.2\n",
      "75%        5.000000     3.500000      1.400000          0.2\n",
      "max        5.100000     3.600000      1.500000          0.2\n"
     ]
    }
   ],
   "source": [
    "df = pd.read_csv(r\"C:\\Users\\mudda\\Downloads\\Telegram Desktop\\iris.csv\")\n",
    "print(df.columns)\n",
    "\n",
    "\n",
    "ndf = df[\"sepal_length\"] > 5.0\n",
    "print(df[ndf])\n",
    "\n",
    "print(df.info())\n",
    "print(df.describe())\n",
    "\n",
    "\n",
    "print(df.groupby(\"species\").avg())\n"
   ]
  },
  {
   "cell_type": "code",
   "execution_count": null,
   "id": "19f34bf3",
   "metadata": {},
   "outputs": [
    {
     "ename": "TypeError",
     "evalue": "ufunc 'power' not supported for the input types, and the inputs could not be safely coerced to any supported types according to the casting rule ''safe''",
     "output_type": "error",
     "traceback": [
      "\u001b[31m---------------------------------------------------------------------------\u001b[39m",
      "\u001b[31mTypeError\u001b[39m                                 Traceback (most recent call last)",
      "\u001b[36mCell\u001b[39m\u001b[36m \u001b[39m\u001b[32mIn[57]\u001b[39m\u001b[32m, line 6\u001b[39m\n\u001b[32m      4\u001b[39m arr = np.array([[\u001b[32m3.5\u001b[39m, \u001b[32m3.0\u001b[39m, \u001b[32m3.2\u001b[39m, \u001b[32m3.1\u001b[39m, \u001b[32m3.6\u001b[39m],[\u001b[32m5.1\u001b[39m, \u001b[32m4.9\u001b[39m, \u001b[32m4.7\u001b[39m, \u001b[32m4.6\u001b[39m, \u001b[32m5.0\u001b[39m]])\n\u001b[32m      5\u001b[39m arr2 = np.array([[\u001b[32m2.5\u001b[39m, \u001b[32m2.0\u001b[39m, \u001b[32m2.2\u001b[39m, \u001b[32m2.1\u001b[39m, \u001b[32m2.6\u001b[39m],[\u001b[32m1.1\u001b[39m, \u001b[32m1.9\u001b[39m, \u001b[32m1.7\u001b[39m, \u001b[32m1.6\u001b[39m, \u001b[32m1.0\u001b[39m]])\n\u001b[32m----> \u001b[39m\u001b[32m6\u001b[39m \u001b[38;5;28mprint\u001b[39m(\u001b[33m\"\u001b[39m\u001b[33meuclidean distance:\u001b[39m\u001b[33m\"\u001b[39m, \u001b[43mdistance_matrix\u001b[49m\u001b[43m(\u001b[49m\u001b[43marr\u001b[49m\u001b[43m,\u001b[49m\u001b[43marr2\u001b[49m\u001b[43m,\u001b[49m\u001b[43m \u001b[49m\u001b[33;43m'\u001b[39;49m\u001b[33;43mmanhattan\u001b[39;49m\u001b[33;43m'\u001b[39;49m\u001b[43m)\u001b[49m)\n",
      "\u001b[36mFile \u001b[39m\u001b[32mc:\\Users\\mudda\\AppData\\Local\\Programs\\Python\\Python312\\Lib\\site-packages\\scipy\\spatial\\_kdtree.py:911\u001b[39m, in \u001b[36mdistance_matrix\u001b[39m\u001b[34m(x, y, p, threshold)\u001b[39m\n\u001b[32m    907\u001b[39m     \u001b[38;5;28;01mraise\u001b[39;00m \u001b[38;5;167;01mValueError\u001b[39;00m(\u001b[33mf\u001b[39m\u001b[33m\"\u001b[39m\u001b[33mx contains \u001b[39m\u001b[38;5;132;01m{\u001b[39;00mk\u001b[38;5;132;01m}\u001b[39;00m\u001b[33m-dimensional vectors but y contains \u001b[39m\u001b[33m\"\u001b[39m\n\u001b[32m    908\u001b[39m                      \u001b[33mf\u001b[39m\u001b[33m\"\u001b[39m\u001b[38;5;132;01m{\u001b[39;00mkk\u001b[38;5;132;01m}\u001b[39;00m\u001b[33m-dimensional vectors\u001b[39m\u001b[33m\"\u001b[39m)\n\u001b[32m    910\u001b[39m \u001b[38;5;28;01mif\u001b[39;00m m*n*k <= threshold:\n\u001b[32m--> \u001b[39m\u001b[32m911\u001b[39m     \u001b[38;5;28;01mreturn\u001b[39;00m \u001b[43mminkowski_distance\u001b[49m\u001b[43m(\u001b[49m\u001b[43mx\u001b[49m\u001b[43m[\u001b[49m\u001b[43m:\u001b[49m\u001b[43m,\u001b[49m\u001b[43mnp\u001b[49m\u001b[43m.\u001b[49m\u001b[43mnewaxis\u001b[49m\u001b[43m,\u001b[49m\u001b[43m:\u001b[49m\u001b[43m]\u001b[49m\u001b[43m,\u001b[49m\u001b[43my\u001b[49m\u001b[43m[\u001b[49m\u001b[43mnp\u001b[49m\u001b[43m.\u001b[49m\u001b[43mnewaxis\u001b[49m\u001b[43m,\u001b[49m\u001b[43m:\u001b[49m\u001b[43m,\u001b[49m\u001b[43m:\u001b[49m\u001b[43m]\u001b[49m\u001b[43m,\u001b[49m\u001b[43mp\u001b[49m\u001b[43m)\u001b[49m\n\u001b[32m    912\u001b[39m \u001b[38;5;28;01melse\u001b[39;00m:\n\u001b[32m    913\u001b[39m     result = np.empty((m,n),dtype=\u001b[38;5;28mfloat\u001b[39m)  \u001b[38;5;66;03m# FIXME: figure out the best dtype\u001b[39;00m\n",
      "\u001b[36mFile \u001b[39m\u001b[32mc:\\Users\\mudda\\AppData\\Local\\Programs\\Python\\Python312\\Lib\\site-packages\\scipy\\spatial\\_kdtree.py:95\u001b[39m, in \u001b[36mminkowski_distance\u001b[39m\u001b[34m(x, y, p)\u001b[39m\n\u001b[32m     93\u001b[39m     \u001b[38;5;28;01mreturn\u001b[39;00m minkowski_distance_p(x, y, p)\n\u001b[32m     94\u001b[39m \u001b[38;5;28;01melse\u001b[39;00m:\n\u001b[32m---> \u001b[39m\u001b[32m95\u001b[39m     \u001b[38;5;28;01mreturn\u001b[39;00m \u001b[43mminkowski_distance_p\u001b[49m\u001b[43m(\u001b[49m\u001b[43mx\u001b[49m\u001b[43m,\u001b[49m\u001b[43m \u001b[49m\u001b[43my\u001b[49m\u001b[43m,\u001b[49m\u001b[43m \u001b[49m\u001b[43mp\u001b[49m\u001b[43m)\u001b[49m**(\u001b[32m1.\u001b[39m/p)\n",
      "\u001b[36mFile \u001b[39m\u001b[32mc:\\Users\\mudda\\AppData\\Local\\Programs\\Python\\Python312\\Lib\\site-packages\\scipy\\spatial\\_kdtree.py:60\u001b[39m, in \u001b[36mminkowski_distance_p\u001b[39m\u001b[34m(x, y, p)\u001b[39m\n\u001b[32m     58\u001b[39m     \u001b[38;5;28;01mreturn\u001b[39;00m np.sum(np.abs(y-x), axis=-\u001b[32m1\u001b[39m)\n\u001b[32m     59\u001b[39m \u001b[38;5;28;01melse\u001b[39;00m:\n\u001b[32m---> \u001b[39m\u001b[32m60\u001b[39m     \u001b[38;5;28;01mreturn\u001b[39;00m np.sum(\u001b[43mnp\u001b[49m\u001b[43m.\u001b[49m\u001b[43mabs\u001b[49m\u001b[43m(\u001b[49m\u001b[43my\u001b[49m\u001b[43m-\u001b[49m\u001b[43mx\u001b[49m\u001b[43m)\u001b[49m\u001b[43m*\u001b[49m\u001b[43m*\u001b[49m\u001b[43mp\u001b[49m, axis=-\u001b[32m1\u001b[39m)\n",
      "\u001b[31mTypeError\u001b[39m: ufunc 'power' not supported for the input types, and the inputs could not be safely coerced to any supported types according to the casting rule ''safe''"
     ]
    }
   ],
   "source": [
    "import numpy as np\n",
    "from scipy.spatial import distance_matrix\n",
    "\n",
    "arr = np.array([[3.5, 3.0, 3.2, 3.1, 3.6],[5.1, 4.9, 4.7, 4.6, 5.0]])\n",
    "arr2 = np.array([[2.5, 2.0, 2.2, 2.1, 2.6],[1.1, 1.9, 1.7, 1.6, 1.0]])\n",
    "print(\"euclidean distance:\", distance_matrix(arr,arr2,))\n"
   ]
  }
 ],
 "metadata": {
  "kernelspec": {
   "display_name": "Python 3",
   "language": "python",
   "name": "python3"
  },
  "language_info": {
   "codemirror_mode": {
    "name": "ipython",
    "version": 3
   },
   "file_extension": ".py",
   "mimetype": "text/x-python",
   "name": "python",
   "nbconvert_exporter": "python",
   "pygments_lexer": "ipython3",
   "version": "3.12.4"
  }
 },
 "nbformat": 4,
 "nbformat_minor": 5
}
