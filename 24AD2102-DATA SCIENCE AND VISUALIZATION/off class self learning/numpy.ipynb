{
 "cells": [
  {
   "cell_type": "code",
   "execution_count": null,
   "id": "4766b909",
   "metadata": {},
   "outputs": [
    {
     "name": "stdout",
     "output_type": "stream",
     "text": [
      "<class 'numpy.ndarray'>\n",
      "int64\n",
      "(4,)\n",
      "1\n",
      "4\n",
      "[1 2 3 4]\n",
      "[[[1]\n",
      "  [2]\n",
      "  [3]]]\n",
      "(1, 3, 1)\n"
     ]
    }
   ],
   "source": [
    "# this is where you have to practise a lot okay up to you i am a fast paced self learner do pip install numpy if you havent already\n",
    "import numpy as np\n",
    "#we are importing a numpy module here this is important\n",
    "\n",
    "#this will create an array this is not a list this is an array\n",
    "a = np.array([1,2,3,4])\n",
    "\n",
    "print(type(a))\n",
    "#this is used to indentify the array or to prove its an array \n",
    "\n",
    "print(a.dtype) #this will return us the datatype of an element in an array unlike lists which are mixed this array supports only one data type \n",
    "print(a.shape) #this will return some thing like (4,) which tells us that this is a 1d array and has 4 elements \n",
    "print(a.ndim)# this will tell us which dimentional array is this \n",
    "print(a.size) #this will tell us how many elements are there \n",
    "\n",
    "print(a) # we are printing array\n",
    "\n",
    "#arrays can be also done in this way\n",
    "a = np.array([[[1],[2],[3]]]) #This is a 2d array unlike the above array\n",
    "print(a)\n",
    "print(a.shape) #this will return some thing like (3,1) which tells us that this is a 2d array and has 3 elements \n",
    "\n",
    "\n",
    "print(a[0][0].shape) # in this we are selecting the rows columns blocks careful with this if this was a 1d array you would hit an error instantly\n",
    "# which feels like you are removing things but no you just viewing some part of the entire thing\n",
    "\n"
   ]
  },
  {
   "cell_type": "code",
   "execution_count": null,
   "id": "66932ed9",
   "metadata": {},
   "outputs": [],
   "source": [
    "\n",
    "np.zeros(5,5,6) #this will take by default as a float\n",
    "np.zeros((5,6,6),dtype=int) #this will create a 3d array filled with zeros and yes think of it as a dummy values\n",
    "np.zeros((5,6,6),dtype=bool) #this will have either trues or falses initally its all false\n",
    "\n",
    "np.ones(2,3) #this is similar to that of  zeros but instead of zeros we fill the thing with ones  default is also float so 1.1. type thing\n",
    "np.ones((2,3),dtype=int) # this will do the thing with int \n",
    "np.ones((5,6,6),dtype=bool) #this is going to all trues by default\n",
    "\n",
    "\n",
    "np.full((2,3),7) #this is similar to that of  zeros/ones but instead of zeros/ones we fill the thing with our value  default is also float so 1.1. type thing\n",
    "np.full((2,3),8,dtype=int) # this will do the thing with int \n",
    "np.full((5,6,6),3,dtype=bool) #look if you use 0 \"\" false it will give false rest will go true\n",
    "\n",
    "\n",
    "np.empty((2,3)) #this results in a array with garbage values you will see random floats\n",
    "np.empty((2,3),dtype=int) # this will do the thing with int \n",
    "np.empty((5,6,6), dtype=bool) #depends on garbage value you wil see random true and falses\n",
    "\n"
   ]
  },
  {
   "cell_type": "code",
   "execution_count": null,
   "id": "8bc1971a",
   "metadata": {},
   "outputs": [],
   "source": [
    "np.arange(5)           # [0 1 2 3 4]\n",
    "np.arange(1, 10, 2)    # [1 3 5 7 9]\n",
    "np.arange(10, 1, -2)   # [10 8 6 4 2]\n",
    "np.arange(0, 1, 0.2)   # [0.  0.2 0.4 0.6 0.8]"
   ]
  }
 ],
 "metadata": {
  "kernelspec": {
   "display_name": "Python 3",
   "language": "python",
   "name": "python3"
  },
  "language_info": {
   "codemirror_mode": {
    "name": "ipython",
    "version": 3
   },
   "file_extension": ".py",
   "mimetype": "text/x-python",
   "name": "python",
   "nbconvert_exporter": "python",
   "pygments_lexer": "ipython3",
   "version": "3.12.4"
  }
 },
 "nbformat": 4,
 "nbformat_minor": 5
}
