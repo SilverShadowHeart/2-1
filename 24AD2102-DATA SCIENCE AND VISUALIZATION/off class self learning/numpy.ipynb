{
 "cells": [
  {
   "cell_type": "code",
   "execution_count": 6,
   "id": "4766b909",
   "metadata": {},
   "outputs": [
    {
     "name": "stdout",
     "output_type": "stream",
     "text": [
      "<class 'numpy.ndarray'>\n",
      "int64\n",
      "(4,)\n",
      "1\n",
      "4\n",
      "[1 2 3 4]\n",
      "[[[1]\n",
      "  [2]\n",
      "  [3]]]\n",
      "(1, 3, 1)\n"
     ]
    }
   ],
   "source": [
    "# this is where you have to practise a lot okay up to you i am a fast paced self learner do pip install numpy if you havent already\n",
    "import numpy as np\n",
    "#we are importing a numpy module here this is important\n",
    "\n",
    "#this will create an array this is not a list this is an array\n",
    "a = np.array([1,2,3,4])\n",
    "\n",
    "print(type(a))\n",
    "#this is used to indentify the array or to prove its an array \n",
    "\n",
    "print(a.dtype) #this will return us the datatype of an element in an array unlike lists which are mixed this array supports only one data type \n",
    "print(a.shape) #this will return some thing like (4,) which tells us that this is a 1d array and has 4 elements \n",
    "print(a.ndim)# this will tell us which dimentional array is this \n",
    "print(a.size) #this will tell us how many elements are there \n",
    "\n",
    "print(a) # we are printing array\n",
    "\n",
    "#arrays can be also done in this way\n",
    "a = np.array([[[1],[2],[3]]]) #This is a 2d array unlike the above array\n",
    "print(a)\n",
    "print(a.shape) #this will return some thing like (3,1) which tells us that this is a 2d array and has 3 elements \n"
   ]
  },
  {
   "cell_type": "code",
   "execution_count": null,
   "id": "8b738b03",
   "metadata": {},
   "outputs": [],
   "source": []
  },
  {
   "cell_type": "code",
   "execution_count": null,
   "id": "d9c85110",
   "metadata": {},
   "outputs": [],
   "source": []
  }
 ],
 "metadata": {
  "kernelspec": {
   "display_name": "Python 3",
   "language": "python",
   "name": "python3"
  },
  "language_info": {
   "codemirror_mode": {
    "name": "ipython",
    "version": 3
   },
   "file_extension": ".py",
   "mimetype": "text/x-python",
   "name": "python",
   "nbconvert_exporter": "python",
   "pygments_lexer": "ipython3",
   "version": "3.12.4"
  }
 },
 "nbformat": 4,
 "nbformat_minor": 5
}
