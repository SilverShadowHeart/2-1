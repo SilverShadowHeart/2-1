{
 "cells": [
  {
   "cell_type": "code",
   "execution_count": null,
   "id": "4766b909",
   "metadata": {},
   "outputs": [
    {
     "name": "stdout",
     "output_type": "stream",
     "text": [
      "<class 'numpy.ndarray'>\n",
      "int64\n",
      "(4,)\n",
      "1\n",
      "4\n",
      "[1 2 3 4]\n",
      "[[[1]\n",
      "  [2]\n",
      "  [3]]]\n",
      "(1, 3, 1)\n"
     ]
    }
   ],
   "source": [
    "# this is where you have to practise a lot okay up to you i am a fast paced self learner do pip install numpy if you havent already\n",
    "import numpy as np\n",
    "#we are importing a numpy module here this is important\n",
    "\n",
    "#this will create an array this is not a list this is an array\n",
    "a = np.array([1,2,3,4])\n",
    "\n",
    "print(type(a))\n",
    "#this is used to indentify the array or to prove its an array \n",
    "\n",
    "print(a.dtype) #this will return us the datatype of an element in an array unlike lists which are mixed this array supports only one data type \n",
    "print(a.shape) #this will return some thing like (4,) which tells us that this is a 1d array and has 4 elements \n",
    "print(a.ndim)# this will tell us which dimentional array is this \n",
    "print(a.size) #this will tell us how many elements are there \n",
    "\n",
    "print(a) # we are printing array\n",
    "\n",
    "#arrays can be also done in this way\n",
    "a = np.array([[[1],[2],[3]]]) #This is a 2d array unlike the above array\n",
    "print(a)\n",
    "print(a.shape) #this will return some thing like (3,1) which tells us that this is a 2d array and has 3 elements \n",
    "\n",
    "\n",
    "print(a[0][0].shape) # in this we are selecting the rows columns blocks careful with this if this was a 1d array you would hit an error instantly\n",
    "# which feels like you are removing things but no you just viewing some part of the entire thing\n",
    "\n"
   ]
  },
  {
   "cell_type": "code",
   "execution_count": null,
   "id": "66932ed9",
   "metadata": {},
   "outputs": [],
   "source": [
    "\n",
    "np.zeros(5,5,6) #this will take by default as a float\n",
    "np.zeros((5,6,6),dtype=int) #this will create a 3d array filled with zeros and yes think of it as a dummy values\n",
    "np.zeros((5,6,6),dtype=bool) #this will have either trues or falses initally its all false\n",
    "\n",
    "np.ones(2,3) #this is similar to that of  zeros but instead of zeros we fill the thing with ones  default is also float so 1.1. type thing\n",
    "np.ones((2,3),dtype=int) # this will do the thing with int \n",
    "np.ones((5,6,6),dtype=bool) #this is going to all trues by default\n",
    "\n",
    "\n",
    "np.full((2,3),7) #this is similar to that of  zeros/ones but instead of zeros/ones we fill the thing with our value  default is also float so 1.1. type thing\n",
    "np.full((2,3),8,dtype=int) # this will do the thing with int \n",
    "np.full((5,6,6),3,dtype=bool) #look if you use 0 \"\" false it will give false rest will go true\n",
    "\n",
    "\n",
    "np.empty((2,3)) #this results in a array with garbage values you will see random floats\n",
    "np.empty((2,3),dtype=int) # this will do the thing with int \n",
    "np.empty((5,6,6), dtype=bool) #depends on garbage value you wil see random true and falses\n",
    "\n",
    "#this will create a unit matrx and it is by default a float and not a int and it has the following parameters\n",
    "#np.eye(n,m,k,dtype) n,m is the size of martix here k is only 3 things 0 on the diagonal 1 above diagonal and -1 for below diagonal \n",
    "#you try since its easy not much for me to tell here\n",
    "#if you put dtype as bool your 1s will be true and 0 will be false\n",
    "np.eye(1,2,0,dtype=int)\n",
    "\n",
    "#this is a faster version for the eye but for sq matrx of size nxn with n as the diagonal and dtype is the thing to declare the type no gimics here \n",
    "np.identity(8,dtype=int) \n",
    "\n",
    "#here the parameters are this np.diag([1,23,33],dtype=) its int by default this is for 1d array \n",
    "# Construct diagonal matrix:\n",
    "np.diag([1, 2, 3])\n",
    "# Output:\n",
    "# [[1 0 0]\n",
    "#  [0 2 0]\n",
    "#  [0 0 3]]\n",
    "\n",
    "# Extract diagonal from 2D matrix:\n",
    "A = np.array([[1,2,3], [4,5,6], [7,8,9]]) \n",
    "np.diag(A)\n",
    "# Output: [1 5 9]\n"
   ]
  },
  {
   "cell_type": "code",
   "execution_count": null,
   "id": "8bc1971a",
   "metadata": {},
   "outputs": [
    {
     "data": {
      "text/plain": [
       "array([ 1.        ,  1.58489319,  2.51188643,  3.98107171,  6.30957344,\n",
       "       10.        ])"
      ]
     },
     "execution_count": 2,
     "metadata": {},
     "output_type": "execute_result"
    }
   ],
   "source": [
    "# arange is simalar to that of pythons range we can do the same thing in here as well except the fact that we have one ore extra parameter\n",
    "import numpy as np\n",
    "\n",
    "np.arange(5)           # [0 1 2 3 4]\n",
    "np.arange(1, 10, 2)    # [1 3 5 7 9]\n",
    "np.arange(10, 1, -2,dtype=int)   # [10 8 6 4 2]\n",
    "np.arange(0, 1, 0.2)   # [0.  0.2 0.4 0.6 0.8]\n",
    "#here dtype depends on your input not like a set default \n",
    "\n",
    "#here line space we have start value stop value no_of values in between endpoint=true/false which is including the last value or keep it out and then the dtype which again depends on your input\n",
    "#try the following to get an understanding of these\n",
    "#np.logspace(start, stop, num=50, endpoint=True,  dtype=None)\n",
    "np.linspace(0, 5)                   # 50 values from 0 to 5 (default num=50)\n",
    "np.linspace(1, 10, 2)               # array([ 1., 10.]) → 2 values: start and stop\n",
    "np.linspace(10, 1, 5, dtype=int, endpoint=True) #dtype first? endpoint first bruh they same but you cant change this start end howmany\n",
    "np.linspace(10, 1, 5, endpoint=True, dtype=int)   # array([10, 8, 6, 4, 1]) → 5 values, descending, cast to int\n",
    "np.linspace(0, 1, 6)                # array([0. , 0.2, 0.4, 0.6, 0.8, 1. ]) → step = 0.2 (approx)\n",
    "\n",
    "#here you try and tell me \n",
    "#np.logspace(start, stop, num=50, endpoint=True, base=10.0, dtype=None)\n",
    "#the values will be exponential the log may make you feel like its decreasing values no log space meaning exponential values\n",
    "np.logspace(0, 5)               \n",
    "np.logspace(1, 10, 2)              \n",
    "np.logspace(10, 1, 5, dtype=int, endpoint=True) \n",
    "np.logspace(10, 1, 5, endpoint=True, dtype=int)   \n",
    "np.logspace(0, 1, 6)\n",
    "\n",
    "\n",
    "#use print statements to test these\n",
    "\n"
   ]
  },
  {
   "cell_type": "code",
   "execution_count": null,
   "id": "30546035",
   "metadata": {},
   "outputs": [],
   "source": [
    "#this is a randint it will generate a int values based on your given limit the size as you guessed will define the array size  no gimics here like the above\n",
    "np.random.randint(1, 10, size=(3, 3))\n",
    "#this will create a postive float values only from 0 to 1 and no non negatives nor the control option like above just raw size\n",
    "np.random.rand(1,2,3)\n",
    "#this will generate values based on standard devation 0 = mean 1 = sd and it will have  negative unlike the above and has no control over generation\n",
    "np.random.randn(12,23) \n",
    "\n",
    "#this is same as the rand but it has much more control \n",
    "#np.random.uniform(startlimit,endlimit,size=(2,)) #more you add to size new dimention \n",
    "np.random.uniform(23,32,size=(12,23)) #this will generate a random generated float array with your limits\n"
   ]
  }
 ],
 "metadata": {
  "kernelspec": {
   "display_name": "Python 3",
   "language": "python",
   "name": "python3"
  },
  "language_info": {
   "codemirror_mode": {
    "name": "ipython",
    "version": 3
   },
   "file_extension": ".py",
   "mimetype": "text/x-python",
   "name": "python",
   "nbconvert_exporter": "python",
   "pygments_lexer": "ipython3",
   "version": "3.12.4"
  }
 },
 "nbformat": 4,
 "nbformat_minor": 5
}
